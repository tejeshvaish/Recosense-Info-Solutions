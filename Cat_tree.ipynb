{
  "nbformat": 4,
  "nbformat_minor": 0,
  "metadata": {
    "colab": {
      "name": "Cat_tree.ipynb",
      "provenance": [],
      "authorship_tag": "ABX9TyP1RSJIbhLGAKnBZuGNhoS2",
      "include_colab_link": true
    },
    "kernelspec": {
      "name": "python3",
      "display_name": "Python 3"
    }
  },
  "cells": [
    {
      "cell_type": "markdown",
      "metadata": {
        "id": "view-in-github",
        "colab_type": "text"
      },
      "source": [
        "<a href=\"https://colab.research.google.com/github/tejeshvaish/Recosense-Info-Solutions/blob/main/Cat_tree.ipynb\" target=\"_parent\"><img src=\"https://colab.research.google.com/assets/colab-badge.svg\" alt=\"Open In Colab\"/></a>"
      ]
    },
    {
      "cell_type": "code",
      "metadata": {
        "id": "7dMTSv9-omfP"
      },
      "source": [
        "import numpy as np\n",
        "import xgboost as xgb\n",
        "from tqdm import tqdm\n",
        "from sklearn.svm import SVC\n",
        "from keras.models import Sequential\n",
        "from keras.layers.recurrent import LSTM, GRU\n",
        "from keras.layers.core import Dense, Activation, Dropout\n",
        "from keras.layers.embeddings import Embedding\n",
        "from keras.layers.normalization import BatchNormalization\n",
        "from keras.utils import np_utils\n",
        "from sklearn import preprocessing, decomposition, model_selection, metrics, pipeline\n",
        "from sklearn.model_selection import GridSearchCV\n",
        "from sklearn.feature_extraction.text import TfidfVectorizer, CountVectorizer\n",
        "from sklearn.decomposition import TruncatedSVD\n",
        "from sklearn.linear_model import LogisticRegression\n",
        "from sklearn.model_selection import train_test_split\n",
        "from sklearn.naive_bayes import MultinomialNB\n",
        "from keras.layers import GlobalMaxPooling1D, Conv1D, MaxPooling1D, Flatten, Bidirectional, SpatialDropout1D\n",
        "from keras.preprocessing import sequence, text\n",
        "from keras.callbacks import EarlyStopping\n",
        "from nltk import word_tokenize\n",
        "from nltk.corpus import stopwords\n",
        "stop_words = stopwords.words('english')"
      ],
      "execution_count": 134,
      "outputs": []
    },
    {
      "cell_type": "code",
      "metadata": {
        "id": "L67c49Woon3z"
      },
      "source": [
        "import nltk\n"
      ],
      "execution_count": 135,
      "outputs": []
    },
    {
      "cell_type": "code",
      "metadata": {
        "id": "rh8HgBart-rs"
      },
      "source": [
        "import pandas as pd\n",
        "from sklearn.model_selection import train_test_split\n",
        "from sklearn.linear_model import LogisticRegression\n",
        "from sklearn.feature_extraction.text import CountVectorizer,TfidfVectorizer"
      ],
      "execution_count": 136,
      "outputs": []
    },
    {
      "cell_type": "code",
      "metadata": {
        "colab": {
          "base_uri": "https://localhost:8080/"
        },
        "id": "n0yu1jyVo3Yx",
        "outputId": "8422f137-2e2b-4109-a47c-cfa62ca8c6a5"
      },
      "source": [
        " nltk.download('stopwords')"
      ],
      "execution_count": 137,
      "outputs": [
        {
          "output_type": "stream",
          "text": [
            "[nltk_data] Downloading package stopwords to /root/nltk_data...\n",
            "[nltk_data]   Package stopwords is already up-to-date!\n"
          ],
          "name": "stdout"
        },
        {
          "output_type": "execute_result",
          "data": {
            "text/plain": [
              "True"
            ]
          },
          "metadata": {
            "tags": []
          },
          "execution_count": 137
        }
      ]
    },
    {
      "cell_type": "code",
      "metadata": {
        "colab": {
          "base_uri": "https://localhost:8080/"
        },
        "id": "19Ra6H7Do42o",
        "outputId": "a25d18a6-1941-44a6-dc82-1dde63ed2798"
      },
      "source": [
        "from google.colab import drive\n",
        "drive.mount('/content/drive')"
      ],
      "execution_count": 138,
      "outputs": [
        {
          "output_type": "stream",
          "text": [
            "Drive already mounted at /content/drive; to attempt to forcibly remount, call drive.mount(\"/content/drive\", force_remount=True).\n"
          ],
          "name": "stdout"
        }
      ]
    },
    {
      "cell_type": "code",
      "metadata": {
        "id": "5fIqgdOfsATa"
      },
      "source": [
        "path = \"/content/drive/MyDrive/Colab Notebooks/laptops.csv\"\n",
        "df_laptop = pd.read_csv(path,encoding = \"ISO-8859-1\")"
      ],
      "execution_count": 139,
      "outputs": []
    },
    {
      "cell_type": "code",
      "metadata": {
        "colab": {
          "base_uri": "https://localhost:8080/",
          "height": 296
        },
        "id": "Z11a1B2jsrY5",
        "outputId": "f3ddf776-a24d-4e5c-d71d-9eea2eb2ed58"
      },
      "source": [
        "df_laptop.head()"
      ],
      "execution_count": 140,
      "outputs": [
        {
          "output_type": "execute_result",
          "data": {
            "text/html": [
              "<div>\n",
              "<style scoped>\n",
              "    .dataframe tbody tr th:only-of-type {\n",
              "        vertical-align: middle;\n",
              "    }\n",
              "\n",
              "    .dataframe tbody tr th {\n",
              "        vertical-align: top;\n",
              "    }\n",
              "\n",
              "    .dataframe thead th {\n",
              "        text-align: right;\n",
              "    }\n",
              "</style>\n",
              "<table border=\"1\" class=\"dataframe\">\n",
              "  <thead>\n",
              "    <tr style=\"text-align: right;\">\n",
              "      <th></th>\n",
              "      <th>Unnamed: 0</th>\n",
              "      <th>Company</th>\n",
              "      <th>Product</th>\n",
              "      <th>TypeName</th>\n",
              "      <th>Inches</th>\n",
              "      <th>ScreenResolution</th>\n",
              "      <th>Cpu</th>\n",
              "      <th>Ram</th>\n",
              "      <th>Memory</th>\n",
              "      <th>Gpu</th>\n",
              "      <th>OpSys</th>\n",
              "      <th>Weight</th>\n",
              "      <th>Price_euros</th>\n",
              "    </tr>\n",
              "  </thead>\n",
              "  <tbody>\n",
              "    <tr>\n",
              "      <th>0</th>\n",
              "      <td>1</td>\n",
              "      <td>Apple</td>\n",
              "      <td>MacBook Pro</td>\n",
              "      <td>Ultrabook</td>\n",
              "      <td>13.3</td>\n",
              "      <td>IPS Panel Retina Display 2560x1600</td>\n",
              "      <td>Intel Core i5 2.3GHz</td>\n",
              "      <td>8GB</td>\n",
              "      <td>128GB SSD</td>\n",
              "      <td>Intel Iris Plus Graphics 640</td>\n",
              "      <td>macOS</td>\n",
              "      <td>1.37kg</td>\n",
              "      <td>1339.69</td>\n",
              "    </tr>\n",
              "    <tr>\n",
              "      <th>1</th>\n",
              "      <td>2</td>\n",
              "      <td>Apple</td>\n",
              "      <td>Macbook Air</td>\n",
              "      <td>Ultrabook</td>\n",
              "      <td>13.3</td>\n",
              "      <td>1440x900</td>\n",
              "      <td>Intel Core i5 1.8GHz</td>\n",
              "      <td>8GB</td>\n",
              "      <td>128GB Flash Storage</td>\n",
              "      <td>Intel HD Graphics 6000</td>\n",
              "      <td>macOS</td>\n",
              "      <td>1.34kg</td>\n",
              "      <td>898.94</td>\n",
              "    </tr>\n",
              "    <tr>\n",
              "      <th>2</th>\n",
              "      <td>3</td>\n",
              "      <td>HP</td>\n",
              "      <td>250 G6</td>\n",
              "      <td>Notebook</td>\n",
              "      <td>15.6</td>\n",
              "      <td>Full HD 1920x1080</td>\n",
              "      <td>Intel Core i5 7200U 2.5GHz</td>\n",
              "      <td>8GB</td>\n",
              "      <td>256GB SSD</td>\n",
              "      <td>Intel HD Graphics 620</td>\n",
              "      <td>No OS</td>\n",
              "      <td>1.86kg</td>\n",
              "      <td>575.00</td>\n",
              "    </tr>\n",
              "    <tr>\n",
              "      <th>3</th>\n",
              "      <td>4</td>\n",
              "      <td>Apple</td>\n",
              "      <td>MacBook Pro</td>\n",
              "      <td>Ultrabook</td>\n",
              "      <td>15.4</td>\n",
              "      <td>IPS Panel Retina Display 2880x1800</td>\n",
              "      <td>Intel Core i7 2.7GHz</td>\n",
              "      <td>16GB</td>\n",
              "      <td>512GB SSD</td>\n",
              "      <td>AMD Radeon Pro 455</td>\n",
              "      <td>macOS</td>\n",
              "      <td>1.83kg</td>\n",
              "      <td>2537.45</td>\n",
              "    </tr>\n",
              "    <tr>\n",
              "      <th>4</th>\n",
              "      <td>5</td>\n",
              "      <td>Apple</td>\n",
              "      <td>MacBook Pro</td>\n",
              "      <td>Ultrabook</td>\n",
              "      <td>13.3</td>\n",
              "      <td>IPS Panel Retina Display 2560x1600</td>\n",
              "      <td>Intel Core i5 3.1GHz</td>\n",
              "      <td>8GB</td>\n",
              "      <td>256GB SSD</td>\n",
              "      <td>Intel Iris Plus Graphics 650</td>\n",
              "      <td>macOS</td>\n",
              "      <td>1.37kg</td>\n",
              "      <td>1803.60</td>\n",
              "    </tr>\n",
              "  </tbody>\n",
              "</table>\n",
              "</div>"
            ],
            "text/plain": [
              "   Unnamed: 0 Company      Product  ...  OpSys  Weight Price_euros\n",
              "0           1   Apple  MacBook Pro  ...  macOS  1.37kg     1339.69\n",
              "1           2   Apple  Macbook Air  ...  macOS  1.34kg      898.94\n",
              "2           3      HP       250 G6  ...  No OS  1.86kg      575.00\n",
              "3           4   Apple  MacBook Pro  ...  macOS  1.83kg     2537.45\n",
              "4           5   Apple  MacBook Pro  ...  macOS  1.37kg     1803.60\n",
              "\n",
              "[5 rows x 13 columns]"
            ]
          },
          "metadata": {
            "tags": []
          },
          "execution_count": 140
        }
      ]
    },
    {
      "cell_type": "code",
      "metadata": {
        "id": "pzw3gW6ntQWI"
      },
      "source": [
        "df_laptop = df_laptop[[\"Company\",'Product']]"
      ],
      "execution_count": 141,
      "outputs": []
    },
    {
      "cell_type": "code",
      "metadata": {
        "id": "WRdmKTtktYXV"
      },
      "source": [
        "# df_laptop[\"cat\"]= \"Laptop\""
      ],
      "execution_count": 142,
      "outputs": []
    },
    {
      "cell_type": "code",
      "metadata": {
        "id": "wu6BiLx2tdHT"
      },
      "source": [
        "df_laptop=df_laptop[:400]"
      ],
      "execution_count": 143,
      "outputs": []
    },
    {
      "cell_type": "code",
      "metadata": {
        "id": "dOmQhL-Wtlxv"
      },
      "source": [
        "path = \"/content/drive/MyDrive/Colab Notebooks/mobile.csv\"\n",
        "df_mobile = pd.read_csv(path,encoding = \"ISO-8859-1\")"
      ],
      "execution_count": 144,
      "outputs": []
    },
    {
      "cell_type": "code",
      "metadata": {
        "id": "oREJivjsttpB"
      },
      "source": [
        "path = \"/content/drive/MyDrive/Colab Notebooks/scrap_jakmal-komputer.csv\"\n",
        "df_acc = pd.read_csv(path,encoding = \"ISO-8859-1\")\n"
      ],
      "execution_count": 145,
      "outputs": []
    },
    {
      "cell_type": "code",
      "metadata": {
        "colab": {
          "base_uri": "https://localhost:8080/"
        },
        "id": "1R-HCYTJt2nc",
        "outputId": "065b9d00-92a3-4c9b-9b33-943c12b4c4f6"
      },
      "source": [
        "df_mobile.shape"
      ],
      "execution_count": 146,
      "outputs": [
        {
          "output_type": "execute_result",
          "data": {
            "text/plain": [
              "(2760, 7)"
            ]
          },
          "metadata": {
            "tags": []
          },
          "execution_count": 146
        }
      ]
    },
    {
      "cell_type": "code",
      "metadata": {
        "id": "tTxjDbV4uRcl"
      },
      "source": [
        "df_mobile=df_mobile[['name','item_brand_name']]"
      ],
      "execution_count": 147,
      "outputs": []
    },
    {
      "cell_type": "code",
      "metadata": {
        "colab": {
          "base_uri": "https://localhost:8080/",
          "height": 195
        },
        "id": "oSvtLrM6uhti",
        "outputId": "e36cf91c-1591-46ef-cb51-b64152f37815"
      },
      "source": [
        "df_mobile.head()"
      ],
      "execution_count": 148,
      "outputs": [
        {
          "output_type": "execute_result",
          "data": {
            "text/html": [
              "<div>\n",
              "<style scoped>\n",
              "    .dataframe tbody tr th:only-of-type {\n",
              "        vertical-align: middle;\n",
              "    }\n",
              "\n",
              "    .dataframe tbody tr th {\n",
              "        vertical-align: top;\n",
              "    }\n",
              "\n",
              "    .dataframe thead th {\n",
              "        text-align: right;\n",
              "    }\n",
              "</style>\n",
              "<table border=\"1\" class=\"dataframe\">\n",
              "  <thead>\n",
              "    <tr style=\"text-align: right;\">\n",
              "      <th></th>\n",
              "      <th>name</th>\n",
              "      <th>item_brand_name</th>\n",
              "    </tr>\n",
              "  </thead>\n",
              "  <tbody>\n",
              "    <tr>\n",
              "      <th>0</th>\n",
              "      <td>Mione K1 ROM 3GB RAM 32GB 5.99 Inch display 4G...</td>\n",
              "      <td>mione</td>\n",
              "    </tr>\n",
              "    <tr>\n",
              "      <th>1</th>\n",
              "      <td>Porsche design Huawei Mate 20 RS Dual SIM - 512GB</td>\n",
              "      <td>huawei</td>\n",
              "    </tr>\n",
              "    <tr>\n",
              "      <th>2</th>\n",
              "      <td>Samsung Galaxy Fold Dual SIM - 512GB</td>\n",
              "      <td>samsung</td>\n",
              "    </tr>\n",
              "    <tr>\n",
              "      <th>3</th>\n",
              "      <td>Samsung Galaxy Fold Dual SIM - 512GB</td>\n",
              "      <td>samsung</td>\n",
              "    </tr>\n",
              "    <tr>\n",
              "      <th>4</th>\n",
              "      <td>Blackberry P'9981 Porsche Design - 8GB</td>\n",
              "      <td>blackberry</td>\n",
              "    </tr>\n",
              "  </tbody>\n",
              "</table>\n",
              "</div>"
            ],
            "text/plain": [
              "                                                name item_brand_name\n",
              "0  Mione K1 ROM 3GB RAM 32GB 5.99 Inch display 4G...           mione\n",
              "1  Porsche design Huawei Mate 20 RS Dual SIM - 512GB          huawei\n",
              "2               Samsung Galaxy Fold Dual SIM - 512GB         samsung\n",
              "3               Samsung Galaxy Fold Dual SIM - 512GB         samsung\n",
              "4             Blackberry P'9981 Porsche Design - 8GB      blackberry"
            ]
          },
          "metadata": {
            "tags": []
          },
          "execution_count": 148
        }
      ]
    },
    {
      "cell_type": "code",
      "metadata": {
        "id": "tgtQcgo17OJV"
      },
      "source": [
        "df_mobile=df_mobile[:400]"
      ],
      "execution_count": 149,
      "outputs": []
    },
    {
      "cell_type": "code",
      "metadata": {
        "colab": {
          "base_uri": "https://localhost:8080/",
          "height": 195
        },
        "id": "1742cdrMun7y",
        "outputId": "516d0c9d-5ce6-46c1-cee2-168e712ca734"
      },
      "source": [
        "df_acc.head()"
      ],
      "execution_count": 150,
      "outputs": [
        {
          "output_type": "execute_result",
          "data": {
            "text/html": [
              "<div>\n",
              "<style scoped>\n",
              "    .dataframe tbody tr th:only-of-type {\n",
              "        vertical-align: middle;\n",
              "    }\n",
              "\n",
              "    .dataframe tbody tr th {\n",
              "        vertical-align: top;\n",
              "    }\n",
              "\n",
              "    .dataframe thead th {\n",
              "        text-align: right;\n",
              "    }\n",
              "</style>\n",
              "<table border=\"1\" class=\"dataframe\">\n",
              "  <thead>\n",
              "    <tr style=\"text-align: right;\">\n",
              "      <th></th>\n",
              "      <th>seller_name</th>\n",
              "      <th>seller_location</th>\n",
              "      <th>seller_product</th>\n",
              "      <th>seller_product_price</th>\n",
              "      <th>seller_product_wishlistcount</th>\n",
              "    </tr>\n",
              "  </thead>\n",
              "  <tbody>\n",
              "    <tr>\n",
              "      <th>0</th>\n",
              "      <td>Specialist Networking</td>\n",
              "      <td>DKI Jakarta</td>\n",
              "      <td>Inotrix SG411 Switch Poe Gigabit 4 Port +1 Por...</td>\n",
              "      <td>Rp 580.000</td>\n",
              "      <td>2</td>\n",
              "    </tr>\n",
              "    <tr>\n",
              "      <th>1</th>\n",
              "      <td>Redcom</td>\n",
              "      <td>DKI Jakarta</td>\n",
              "      <td>TRANSCEND Storejet 25H3 1TB Harddisk External ...</td>\n",
              "      <td>Rp 778.000</td>\n",
              "      <td>2</td>\n",
              "    </tr>\n",
              "    <tr>\n",
              "      <th>2</th>\n",
              "      <td>Indo Audio</td>\n",
              "      <td>DKI Jakarta</td>\n",
              "      <td>Taffware Bluetooth Audio USB External Soundcar...</td>\n",
              "      <td>Rp 159.200</td>\n",
              "      <td>96</td>\n",
              "    </tr>\n",
              "    <tr>\n",
              "      <th>3</th>\n",
              "      <td>zero promosi</td>\n",
              "      <td>Tangerang</td>\n",
              "      <td>FLASHDISK PLASTIK MODEL FLIP ON FDPL38</td>\n",
              "      <td>Rp 40.000</td>\n",
              "      <td>1</td>\n",
              "    </tr>\n",
              "    <tr>\n",
              "      <th>4</th>\n",
              "      <td>JOJO CompTech</td>\n",
              "      <td>DKI Jakarta</td>\n",
              "      <td>Corsair Carbide Series 110Q Quiet ATX Mid-Towe...</td>\n",
              "      <td>Rp 960.000</td>\n",
              "      <td>1</td>\n",
              "    </tr>\n",
              "  </tbody>\n",
              "</table>\n",
              "</div>"
            ],
            "text/plain": [
              "             seller_name  ... seller_product_wishlistcount\n",
              "0  Specialist Networking  ...                            2\n",
              "1                 Redcom  ...                            2\n",
              "2             Indo Audio  ...                           96\n",
              "3           zero promosi  ...                            1\n",
              "4          JOJO CompTech  ...                            1\n",
              "\n",
              "[5 rows x 5 columns]"
            ]
          },
          "metadata": {
            "tags": []
          },
          "execution_count": 150
        }
      ]
    },
    {
      "cell_type": "code",
      "metadata": {
        "colab": {
          "base_uri": "https://localhost:8080/"
        },
        "id": "NDn8Nsvp6Aeh",
        "outputId": "b55ca1a4-f383-4049-83ff-d18273de81ee"
      },
      "source": [
        "df_acc.shape"
      ],
      "execution_count": 151,
      "outputs": [
        {
          "output_type": "execute_result",
          "data": {
            "text/plain": [
              "(60, 5)"
            ]
          },
          "metadata": {
            "tags": []
          },
          "execution_count": 151
        }
      ]
    },
    {
      "cell_type": "code",
      "metadata": {
        "id": "osxLtN-Y2l2n"
      },
      "source": [
        "df_acc = df_acc[['seller_product','seller_name']]"
      ],
      "execution_count": 152,
      "outputs": []
    },
    {
      "cell_type": "code",
      "metadata": {
        "colab": {
          "base_uri": "https://localhost:8080/",
          "height": 195
        },
        "id": "_hn5E3Ee2u_P",
        "outputId": "2f862fb5-31fe-48b2-d512-aef6689ba86a"
      },
      "source": [
        "df_acc.head()"
      ],
      "execution_count": 153,
      "outputs": [
        {
          "output_type": "execute_result",
          "data": {
            "text/html": [
              "<div>\n",
              "<style scoped>\n",
              "    .dataframe tbody tr th:only-of-type {\n",
              "        vertical-align: middle;\n",
              "    }\n",
              "\n",
              "    .dataframe tbody tr th {\n",
              "        vertical-align: top;\n",
              "    }\n",
              "\n",
              "    .dataframe thead th {\n",
              "        text-align: right;\n",
              "    }\n",
              "</style>\n",
              "<table border=\"1\" class=\"dataframe\">\n",
              "  <thead>\n",
              "    <tr style=\"text-align: right;\">\n",
              "      <th></th>\n",
              "      <th>seller_product</th>\n",
              "      <th>seller_name</th>\n",
              "    </tr>\n",
              "  </thead>\n",
              "  <tbody>\n",
              "    <tr>\n",
              "      <th>0</th>\n",
              "      <td>Inotrix SG411 Switch Poe Gigabit 4 Port +1 Por...</td>\n",
              "      <td>Specialist Networking</td>\n",
              "    </tr>\n",
              "    <tr>\n",
              "      <th>1</th>\n",
              "      <td>TRANSCEND Storejet 25H3 1TB Harddisk External ...</td>\n",
              "      <td>Redcom</td>\n",
              "    </tr>\n",
              "    <tr>\n",
              "      <th>2</th>\n",
              "      <td>Taffware Bluetooth Audio USB External Soundcar...</td>\n",
              "      <td>Indo Audio</td>\n",
              "    </tr>\n",
              "    <tr>\n",
              "      <th>3</th>\n",
              "      <td>FLASHDISK PLASTIK MODEL FLIP ON FDPL38</td>\n",
              "      <td>zero promosi</td>\n",
              "    </tr>\n",
              "    <tr>\n",
              "      <th>4</th>\n",
              "      <td>Corsair Carbide Series 110Q Quiet ATX Mid-Towe...</td>\n",
              "      <td>JOJO CompTech</td>\n",
              "    </tr>\n",
              "  </tbody>\n",
              "</table>\n",
              "</div>"
            ],
            "text/plain": [
              "                                      seller_product            seller_name\n",
              "0  Inotrix SG411 Switch Poe Gigabit 4 Port +1 Por...  Specialist Networking\n",
              "1  TRANSCEND Storejet 25H3 1TB Harddisk External ...                 Redcom\n",
              "2  Taffware Bluetooth Audio USB External Soundcar...             Indo Audio\n",
              "3             FLASHDISK PLASTIK MODEL FLIP ON FDPL38           zero promosi\n",
              "4  Corsair Carbide Series 110Q Quiet ATX Mid-Towe...          JOJO CompTech"
            ]
          },
          "metadata": {
            "tags": []
          },
          "execution_count": 153
        }
      ]
    },
    {
      "cell_type": "code",
      "metadata": {
        "id": "-aJ5asW-4EyO"
      },
      "source": [
        "df_mobile.rename(columns={'name': 'Product', 'item_brand_name': 'Company'}, inplace=True)\n"
      ],
      "execution_count": 154,
      "outputs": []
    },
    {
      "cell_type": "code",
      "metadata": {
        "id": "h630edHo5C5f"
      },
      "source": [
        "df_laptop[\"cat\"]=\"Laptop\"\n",
        "df_mobile[\"cat\"]=\"Mobile\"\n",
        "df_acc[\"cat\"]=\"Computer_Accesories\""
      ],
      "execution_count": 155,
      "outputs": []
    },
    {
      "cell_type": "code",
      "metadata": {
        "id": "d_Ob8a4u2xKE"
      },
      "source": [
        "# input_files = ['df_laptop.csv', 'df_mobile.csv', 'df_acc.csv']\n",
        "df_laptop=df_laptop.append(df_mobile) "
      ],
      "execution_count": 162,
      "outputs": []
    },
    {
      "cell_type": "code",
      "metadata": {
        "id": "Jz0-C7-M3OOA"
      },
      "source": [
        "df_acc.rename(columns={'seller_product': 'Product', 'seller_name': 'Company'}, inplace=True)\n"
      ],
      "execution_count": 163,
      "outputs": []
    },
    {
      "cell_type": "code",
      "metadata": {
        "id": "0z11g9-74e-s"
      },
      "source": [
        "df=df_laptop.append(df_acc)"
      ],
      "execution_count": 165,
      "outputs": []
    },
    {
      "cell_type": "code",
      "metadata": {
        "colab": {
          "base_uri": "https://localhost:8080/"
        },
        "id": "3djkisDT4h9d",
        "outputId": "ffe2dc01-091d-43ad-91e4-aae470096080"
      },
      "source": [
        "df.shape"
      ],
      "execution_count": 166,
      "outputs": [
        {
          "output_type": "execute_result",
          "data": {
            "text/plain": [
              "(860, 3)"
            ]
          },
          "metadata": {
            "tags": []
          },
          "execution_count": 166
        }
      ]
    },
    {
      "cell_type": "code",
      "metadata": {
        "id": "BGQURINZ4tkk"
      },
      "source": [
        "from sklearn.utils import shuffle\n",
        "df = shuffle(df)"
      ],
      "execution_count": 168,
      "outputs": []
    },
    {
      "cell_type": "code",
      "metadata": {
        "colab": {
          "base_uri": "https://localhost:8080/",
          "height": 402
        },
        "id": "41sSExE44xmO",
        "outputId": "acc2397c-b027-4f67-b71e-5ee3f50cce94"
      },
      "source": [
        "df"
      ],
      "execution_count": 169,
      "outputs": [
        {
          "output_type": "execute_result",
          "data": {
            "text/html": [
              "<div>\n",
              "<style scoped>\n",
              "    .dataframe tbody tr th:only-of-type {\n",
              "        vertical-align: middle;\n",
              "    }\n",
              "\n",
              "    .dataframe tbody tr th {\n",
              "        vertical-align: top;\n",
              "    }\n",
              "\n",
              "    .dataframe thead th {\n",
              "        text-align: right;\n",
              "    }\n",
              "</style>\n",
              "<table border=\"1\" class=\"dataframe\">\n",
              "  <thead>\n",
              "    <tr style=\"text-align: right;\">\n",
              "      <th></th>\n",
              "      <th>Company</th>\n",
              "      <th>Product</th>\n",
              "      <th>cat</th>\n",
              "    </tr>\n",
              "  </thead>\n",
              "  <tbody>\n",
              "    <tr>\n",
              "      <th>291</th>\n",
              "      <td>Asus</td>\n",
              "      <td>FX753VD-GC071T (i7-7700HQ/8GB/1TB/GeForce</td>\n",
              "      <td>Laptop</td>\n",
              "    </tr>\n",
              "    <tr>\n",
              "      <th>117</th>\n",
              "      <td>samsung</td>\n",
              "      <td>Samsung Galaxy S10 Plus Dual Sim - 1Tb</td>\n",
              "      <td>Mobile</td>\n",
              "    </tr>\n",
              "    <tr>\n",
              "      <th>347</th>\n",
              "      <td>Dell</td>\n",
              "      <td>Latitude 5590</td>\n",
              "      <td>Laptop</td>\n",
              "    </tr>\n",
              "    <tr>\n",
              "      <th>125</th>\n",
              "      <td>apple</td>\n",
              "      <td>Apple iPhone 11 Pro Max with FaceTime - 512GB</td>\n",
              "      <td>Mobile</td>\n",
              "    </tr>\n",
              "    <tr>\n",
              "      <th>30</th>\n",
              "      <td>samsung</td>\n",
              "      <td>Samsung Galaxy S20 Ultra Dual SIM - 128GB</td>\n",
              "      <td>Mobile</td>\n",
              "    </tr>\n",
              "    <tr>\n",
              "      <th>...</th>\n",
              "      <td>...</td>\n",
              "      <td>...</td>\n",
              "      <td>...</td>\n",
              "    </tr>\n",
              "    <tr>\n",
              "      <th>51</th>\n",
              "      <td>Acer</td>\n",
              "      <td>Aspire A515-51G</td>\n",
              "      <td>Laptop</td>\n",
              "    </tr>\n",
              "    <tr>\n",
              "      <th>200</th>\n",
              "      <td>Dell</td>\n",
              "      <td>Inspiron 7577</td>\n",
              "      <td>Laptop</td>\n",
              "    </tr>\n",
              "    <tr>\n",
              "      <th>124</th>\n",
              "      <td>Acer</td>\n",
              "      <td>Aspire 3</td>\n",
              "      <td>Laptop</td>\n",
              "    </tr>\n",
              "    <tr>\n",
              "      <th>300</th>\n",
              "      <td>mione</td>\n",
              "      <td>Mione K1 ROM 3GB RAM 32GB 5.99 Inch display 4G...</td>\n",
              "      <td>Mobile</td>\n",
              "    </tr>\n",
              "    <tr>\n",
              "      <th>6</th>\n",
              "      <td>apple</td>\n",
              "      <td>Apple iPhone 11 Pro Max with FaceTime - 512GB</td>\n",
              "      <td>Mobile</td>\n",
              "    </tr>\n",
              "  </tbody>\n",
              "</table>\n",
              "<p>860 rows × 3 columns</p>\n",
              "</div>"
            ],
            "text/plain": [
              "     Company                                            Product     cat\n",
              "291     Asus          FX753VD-GC071T (i7-7700HQ/8GB/1TB/GeForce  Laptop\n",
              "117  samsung             Samsung Galaxy S10 Plus Dual Sim - 1Tb  Mobile\n",
              "347     Dell                                      Latitude 5590  Laptop\n",
              "125    apple      Apple iPhone 11 Pro Max with FaceTime - 512GB  Mobile\n",
              "30   samsung          Samsung Galaxy S20 Ultra Dual SIM - 128GB  Mobile\n",
              "..       ...                                                ...     ...\n",
              "51      Acer                                    Aspire A515-51G  Laptop\n",
              "200     Dell                                      Inspiron 7577  Laptop\n",
              "124     Acer                                           Aspire 3  Laptop\n",
              "300    mione  Mione K1 ROM 3GB RAM 32GB 5.99 Inch display 4G...  Mobile\n",
              "6      apple      Apple iPhone 11 Pro Max with FaceTime - 512GB  Mobile\n",
              "\n",
              "[860 rows x 3 columns]"
            ]
          },
          "metadata": {
            "tags": []
          },
          "execution_count": 169
        }
      ]
    },
    {
      "cell_type": "code",
      "metadata": {
        "id": "LdwEA9cY76Eu"
      },
      "source": [
        "test=df[770:]"
      ],
      "execution_count": 176,
      "outputs": []
    },
    {
      "cell_type": "code",
      "metadata": {
        "id": "NNBTLkcc8qLS"
      },
      "source": [
        "train=df[:770]"
      ],
      "execution_count": 178,
      "outputs": []
    },
    {
      "cell_type": "code",
      "metadata": {
        "colab": {
          "base_uri": "https://localhost:8080/",
          "height": 402
        },
        "id": "5NxK0wp68D6l",
        "outputId": "0b3e4690-75bd-4d73-b804-a81058fd345a"
      },
      "source": [
        "test"
      ],
      "execution_count": 179,
      "outputs": [
        {
          "output_type": "execute_result",
          "data": {
            "text/html": [
              "<div>\n",
              "<style scoped>\n",
              "    .dataframe tbody tr th:only-of-type {\n",
              "        vertical-align: middle;\n",
              "    }\n",
              "\n",
              "    .dataframe tbody tr th {\n",
              "        vertical-align: top;\n",
              "    }\n",
              "\n",
              "    .dataframe thead th {\n",
              "        text-align: right;\n",
              "    }\n",
              "</style>\n",
              "<table border=\"1\" class=\"dataframe\">\n",
              "  <thead>\n",
              "    <tr style=\"text-align: right;\">\n",
              "      <th></th>\n",
              "      <th>Company</th>\n",
              "      <th>Product</th>\n",
              "      <th>cat</th>\n",
              "    </tr>\n",
              "  </thead>\n",
              "  <tbody>\n",
              "    <tr>\n",
              "      <th>119</th>\n",
              "      <td>Asus</td>\n",
              "      <td>VivoBook S15</td>\n",
              "      <td>Laptop</td>\n",
              "    </tr>\n",
              "    <tr>\n",
              "      <th>123</th>\n",
              "      <td>HP</td>\n",
              "      <td>Probook 470</td>\n",
              "      <td>Laptop</td>\n",
              "    </tr>\n",
              "    <tr>\n",
              "      <th>126</th>\n",
              "      <td>apple</td>\n",
              "      <td>Apple iPhone 11 Pro Max with FaceTime - 512GB</td>\n",
              "      <td>Mobile</td>\n",
              "    </tr>\n",
              "    <tr>\n",
              "      <th>305</th>\n",
              "      <td>Lenovo</td>\n",
              "      <td>IdeaPad 320-15IAP</td>\n",
              "      <td>Laptop</td>\n",
              "    </tr>\n",
              "    <tr>\n",
              "      <th>271</th>\n",
              "      <td>samsung</td>\n",
              "      <td>Samsung Galaxy S20 Ultra Dual SIM - 128GB</td>\n",
              "      <td>Mobile</td>\n",
              "    </tr>\n",
              "    <tr>\n",
              "      <th>...</th>\n",
              "      <td>...</td>\n",
              "      <td>...</td>\n",
              "      <td>...</td>\n",
              "    </tr>\n",
              "    <tr>\n",
              "      <th>51</th>\n",
              "      <td>Acer</td>\n",
              "      <td>Aspire A515-51G</td>\n",
              "      <td>Laptop</td>\n",
              "    </tr>\n",
              "    <tr>\n",
              "      <th>200</th>\n",
              "      <td>Dell</td>\n",
              "      <td>Inspiron 7577</td>\n",
              "      <td>Laptop</td>\n",
              "    </tr>\n",
              "    <tr>\n",
              "      <th>124</th>\n",
              "      <td>Acer</td>\n",
              "      <td>Aspire 3</td>\n",
              "      <td>Laptop</td>\n",
              "    </tr>\n",
              "    <tr>\n",
              "      <th>300</th>\n",
              "      <td>mione</td>\n",
              "      <td>Mione K1 ROM 3GB RAM 32GB 5.99 Inch display 4G...</td>\n",
              "      <td>Mobile</td>\n",
              "    </tr>\n",
              "    <tr>\n",
              "      <th>6</th>\n",
              "      <td>apple</td>\n",
              "      <td>Apple iPhone 11 Pro Max with FaceTime - 512GB</td>\n",
              "      <td>Mobile</td>\n",
              "    </tr>\n",
              "  </tbody>\n",
              "</table>\n",
              "<p>90 rows × 3 columns</p>\n",
              "</div>"
            ],
            "text/plain": [
              "     Company                                            Product     cat\n",
              "119     Asus                                       VivoBook S15  Laptop\n",
              "123       HP                                        Probook 470  Laptop\n",
              "126    apple      Apple iPhone 11 Pro Max with FaceTime - 512GB  Mobile\n",
              "305   Lenovo                                  IdeaPad 320-15IAP  Laptop\n",
              "271  samsung          Samsung Galaxy S20 Ultra Dual SIM - 128GB  Mobile\n",
              "..       ...                                                ...     ...\n",
              "51      Acer                                    Aspire A515-51G  Laptop\n",
              "200     Dell                                      Inspiron 7577  Laptop\n",
              "124     Acer                                           Aspire 3  Laptop\n",
              "300    mione  Mione K1 ROM 3GB RAM 32GB 5.99 Inch display 4G...  Mobile\n",
              "6      apple      Apple iPhone 11 Pro Max with FaceTime - 512GB  Mobile\n",
              "\n",
              "[90 rows x 3 columns]"
            ]
          },
          "metadata": {
            "tags": []
          },
          "execution_count": 179
        }
      ]
    },
    {
      "cell_type": "code",
      "metadata": {
        "id": "ORUu9TcPBBGq"
      },
      "source": [
        ""
      ],
      "execution_count": null,
      "outputs": []
    },
    {
      "cell_type": "code",
      "metadata": {
        "id": "HI_qnQIHBiJa"
      },
      "source": [
        ""
      ],
      "execution_count": null,
      "outputs": []
    },
    {
      "cell_type": "markdown",
      "metadata": {
        "id": "pjpUN8AZBiZZ"
      },
      "source": [
        "## **First I am training the model to find the category through product name**"
      ]
    },
    {
      "cell_type": "code",
      "metadata": {
        "id": "3cnhia6G8E8r"
      },
      "source": [
        "def multiclass_logloss(actual, predicted, eps=1e-15):\n",
        "    \"\"\"Multi class version of Logarithmic Loss metric.\n",
        "    :param actual: Array containing the actual target classes\n",
        "    :param predicted: Matrix with class predictions, one probability per class\n",
        "    \"\"\"\n",
        "    # Convert 'actual' to a binary array if it's not already:\n",
        "    if len(actual.shape) == 1:\n",
        "        actual2 = np.zeros((actual.shape[0], predicted.shape[1]))\n",
        "        for i, val in enumerate(actual):\n",
        "            actual2[i, val] = 1\n",
        "        actual = actual2\n",
        "\n",
        "    clip = np.clip(predicted, eps, 1 - eps)\n",
        "    rows = actual.shape[0]\n",
        "    vsota = np.sum(actual * np.log(clip))\n",
        "    return -1.0 / rows * vsota"
      ],
      "execution_count": 180,
      "outputs": []
    },
    {
      "cell_type": "code",
      "metadata": {
        "id": "tOyVS_Lp8inP"
      },
      "source": [
        "lbl_enc = preprocessing.LabelEncoder()\n",
        "y = lbl_enc.fit_transform(train.cat.values)"
      ],
      "execution_count": 182,
      "outputs": []
    },
    {
      "cell_type": "code",
      "metadata": {
        "id": "kl1hG6wN8jfa"
      },
      "source": [
        "xtrain, xvalid, ytrain, yvalid = train_test_split(train.Product.values, y, \n",
        "                                                  stratify=y, \n",
        "                                                  random_state=42, \n",
        "                                                  test_size=0.1, shuffle=True)"
      ],
      "execution_count": 184,
      "outputs": []
    },
    {
      "cell_type": "code",
      "metadata": {
        "colab": {
          "base_uri": "https://localhost:8080/"
        },
        "id": "wAX8Amt19FiI",
        "outputId": "6ec97716-0cb1-4136-8f59-68a0247d71b8"
      },
      "source": [
        "print (xtrain.shape)\n",
        "print (xvalid.shape)"
      ],
      "execution_count": 185,
      "outputs": [
        {
          "output_type": "stream",
          "text": [
            "(693,)\n",
            "(77,)\n"
          ],
          "name": "stdout"
        }
      ]
    },
    {
      "cell_type": "code",
      "metadata": {
        "id": "Ys6Tlt839OHS"
      },
      "source": [
        "tfv = TfidfVectorizer(min_df=3,  max_features=None, \n",
        "            strip_accents='unicode', analyzer='word',token_pattern=r'\\w{1,}',\n",
        "            ngram_range=(1, 3), use_idf=1,smooth_idf=1,sublinear_tf=1,\n",
        "            stop_words = 'english')\n",
        "\n",
        "# Fitting TF-IDF to both training and test sets (semi-supervised learning)\n",
        "tfv.fit(list(xtrain) + list(xvalid))\n",
        "xtrain_tfv =  tfv.transform(xtrain) \n",
        "xvalid_tfv = tfv.transform(xvalid)"
      ],
      "execution_count": 186,
      "outputs": []
    },
    {
      "cell_type": "code",
      "metadata": {
        "id": "lo6tkB8E9Rsn"
      },
      "source": [
        "clf = LogisticRegression(C=1.0)\n",
        "clf.fit(xtrain_tfv, ytrain)\n",
        "predictions = clf.predict_proba(xvalid_tfv)"
      ],
      "execution_count": 187,
      "outputs": []
    },
    {
      "cell_type": "code",
      "metadata": {
        "colab": {
          "base_uri": "https://localhost:8080/"
        },
        "id": "fCZU6ABN9UNi",
        "outputId": "77883098-e506-41e3-8907-414f4cce95c5"
      },
      "source": [
        "print (\"logloss: %0.3f \" % multiclass_logloss(yvalid, predictions))\n"
      ],
      "execution_count": 188,
      "outputs": [
        {
          "output_type": "stream",
          "text": [
            "logloss: 0.192 \n"
          ],
          "name": "stdout"
        }
      ]
    },
    {
      "cell_type": "code",
      "metadata": {
        "id": "Sq-o_j6d9Wn2"
      },
      "source": [
        "ctv = CountVectorizer(analyzer='word',token_pattern=r'\\w{1,}',\n",
        "            ngram_range=(1, 3), stop_words = 'english')\n",
        "\n",
        "# Fitting Count Vectorizer to both training and test sets (semi-supervised learning)\n",
        "ctv.fit(list(xtrain) + list(xvalid))\n",
        "xtrain_ctv =  ctv.transform(xtrain) \n",
        "xvalid_ctv = ctv.transform(xvalid)"
      ],
      "execution_count": 189,
      "outputs": []
    },
    {
      "cell_type": "code",
      "metadata": {
        "colab": {
          "base_uri": "https://localhost:8080/"
        },
        "id": "VU86Wsq89b2z",
        "outputId": "12a940e7-8d48-4f5d-d4c2-0b6806ca3bd0"
      },
      "source": [
        "# Fitting a simple Logistic Regression on Counts\n",
        "clf = LogisticRegression(C=1.0)\n",
        "clf.fit(xtrain_ctv, ytrain)\n",
        "predictions = clf.predict_proba(xvalid_ctv)\n",
        "\n",
        "print (\"logloss: %0.3f \" % multiclass_logloss(yvalid, predictions))"
      ],
      "execution_count": 190,
      "outputs": [
        {
          "output_type": "stream",
          "text": [
            "logloss: 0.165 \n"
          ],
          "name": "stdout"
        }
      ]
    },
    {
      "cell_type": "code",
      "metadata": {
        "colab": {
          "base_uri": "https://localhost:8080/"
        },
        "id": "9FEFHrPX9eQp",
        "outputId": "3e7b9ac0-235e-41a7-faab-423215ed88c4"
      },
      "source": [
        "# Fitting a simple Naive Bayes on TFIDF\n",
        "clf = MultinomialNB()\n",
        "clf.fit(xtrain_tfv, ytrain)\n",
        "predictions = clf.predict_proba(xvalid_tfv)\n",
        "\n",
        "print (\"logloss: %0.3f \" % multiclass_logloss(yvalid, predictions))"
      ],
      "execution_count": 191,
      "outputs": [
        {
          "output_type": "stream",
          "text": [
            "logloss: 0.149 \n"
          ],
          "name": "stdout"
        }
      ]
    },
    {
      "cell_type": "code",
      "metadata": {
        "colab": {
          "base_uri": "https://localhost:8080/"
        },
        "id": "mbf-NEGv9h7C",
        "outputId": "f8cfc9a9-959d-4c8f-b819-7883501b8e4e"
      },
      "source": [
        "# Fitting a simple Naive Bayes on Counts\n",
        "clf = MultinomialNB()\n",
        "clf.fit(xtrain_ctv, ytrain)\n",
        "predictions = clf.predict_proba(xvalid_ctv)\n",
        "\n",
        "print (\"logloss: %0.3f \" % multiclass_logloss(yvalid, predictions))"
      ],
      "execution_count": 192,
      "outputs": [
        {
          "output_type": "stream",
          "text": [
            "logloss: 0.018 \n"
          ],
          "name": "stdout"
        }
      ]
    },
    {
      "cell_type": "code",
      "metadata": {
        "id": "wSwKLBjO9mye"
      },
      "source": [
        "svd = decomposition.TruncatedSVD(n_components=120)\n",
        "svd.fit(xtrain_tfv)\n",
        "xtrain_svd = svd.transform(xtrain_tfv)\n",
        "xvalid_svd = svd.transform(xvalid_tfv)\n",
        "\n",
        "# Scale the data obtained from SVD. Renaming variable to reuse without scaling.\n",
        "scl = preprocessing.StandardScaler()\n",
        "scl.fit(xtrain_svd)\n",
        "xtrain_svd_scl = scl.transform(xtrain_svd)\n",
        "xvalid_svd_scl = scl.transform(xvalid_svd)"
      ],
      "execution_count": 193,
      "outputs": []
    },
    {
      "cell_type": "code",
      "metadata": {
        "colab": {
          "base_uri": "https://localhost:8080/"
        },
        "id": "ZvMZXBQH9qTD",
        "outputId": "04819e1d-b38b-491f-901b-c165f5a53b1d"
      },
      "source": [
        "clf = SVC(C=1.0, probability=True) # since we need probabilities\n",
        "clf.fit(xtrain_svd_scl, ytrain)\n",
        "predictions = clf.predict_proba(xvalid_svd_scl)\n",
        "\n",
        "print (\"logloss: %0.3f \" % multiclass_logloss(yvalid, predictions))"
      ],
      "execution_count": 194,
      "outputs": [
        {
          "output_type": "stream",
          "text": [
            "logloss: 0.045 \n"
          ],
          "name": "stdout"
        }
      ]
    },
    {
      "cell_type": "markdown",
      "metadata": {
        "id": "wB4z_uno9zxe"
      },
      "source": [
        "SVM doesn't perform well on this dataset!\n"
      ]
    },
    {
      "cell_type": "code",
      "metadata": {
        "colab": {
          "base_uri": "https://localhost:8080/"
        },
        "id": "BjFYobK49t6f",
        "outputId": "335d1f74-932c-4921-b3c8-9a7f7e056198"
      },
      "source": [
        "# Fitting a simple xgboost on tf-idf\n",
        "clf = xgb.XGBClassifier(max_depth=7, n_estimators=200, colsample_bytree=0.8, \n",
        "                        subsample=0.8, nthread=10, learning_rate=0.1)\n",
        "clf.fit(xtrain_tfv.tocsc(), ytrain)\n",
        "predictions = clf.predict_proba(xvalid_tfv.tocsc())\n",
        "\n",
        "print (\"logloss: %0.3f \" % multiclass_logloss(yvalid, predictions))\n"
      ],
      "execution_count": 195,
      "outputs": [
        {
          "output_type": "stream",
          "text": [
            "logloss: 0.070 \n"
          ],
          "name": "stdout"
        }
      ]
    },
    {
      "cell_type": "code",
      "metadata": {
        "colab": {
          "base_uri": "https://localhost:8080/"
        },
        "id": "38zXHquX97DQ",
        "outputId": "330d1ff3-67ec-45ac-d64d-a90f6e89fe6a"
      },
      "source": [
        "# Fitting a simple xgboost on tf-idf\n",
        "clf = xgb.XGBClassifier(max_depth=7, n_estimators=200, colsample_bytree=0.8, \n",
        "                        subsample=0.8, nthread=10, learning_rate=0.1)\n",
        "clf.fit(xtrain_ctv.tocsc(), ytrain)\n",
        "predictions = clf.predict_proba(xvalid_ctv.tocsc())\n",
        "\n",
        "print (\"logloss: %0.3f \" % multiclass_logloss(yvalid, predictions))"
      ],
      "execution_count": 196,
      "outputs": [
        {
          "output_type": "stream",
          "text": [
            "logloss: 0.065 \n"
          ],
          "name": "stdout"
        }
      ]
    },
    {
      "cell_type": "code",
      "metadata": {
        "colab": {
          "base_uri": "https://localhost:8080/"
        },
        "id": "8mq3MpH_-AV2",
        "outputId": "7187a904-ae9d-4fdb-8c5c-7521f5b322f5"
      },
      "source": [
        "# Fitting a simple xgboost on tf-idf svd features\n",
        "clf = xgb.XGBClassifier(max_depth=7, n_estimators=200, colsample_bytree=0.8, \n",
        "                        subsample=0.8, nthread=10, learning_rate=0.1)\n",
        "clf.fit(xtrain_svd, ytrain)\n",
        "predictions = clf.predict_proba(xvalid_svd)\n",
        "\n",
        "print (\"logloss: %0.3f \" % multiclass_logloss(yvalid, predictions))"
      ],
      "execution_count": 197,
      "outputs": [
        {
          "output_type": "stream",
          "text": [
            "logloss: 0.039 \n"
          ],
          "name": "stdout"
        }
      ]
    },
    {
      "cell_type": "code",
      "metadata": {
        "colab": {
          "base_uri": "https://localhost:8080/"
        },
        "id": "rgyxIDM6-DU8",
        "outputId": "2824a5d2-e01b-44d9-9700-7203879531d7"
      },
      "source": [
        "# Fitting a simple xgboost on tf-idf svd features\n",
        "clf = xgb.XGBClassifier(nthread=10)\n",
        "clf.fit(xtrain_svd, ytrain)\n",
        "predictions = clf.predict_proba(xvalid_svd)\n",
        "\n",
        "print (\"logloss: %0.3f \" % multiclass_logloss(yvalid, predictions))\n"
      ],
      "execution_count": 198,
      "outputs": [
        {
          "output_type": "stream",
          "text": [
            "logloss: 0.040 \n"
          ],
          "name": "stdout"
        }
      ]
    },
    {
      "cell_type": "code",
      "metadata": {
        "id": "wvn7JOkf-Go2"
      },
      "source": [
        "#Now applying grid Search!\n"
      ],
      "execution_count": 199,
      "outputs": []
    },
    {
      "cell_type": "code",
      "metadata": {
        "id": "E_VMVrqI-QBZ"
      },
      "source": [
        "mll_scorer = metrics.make_scorer(multiclass_logloss, greater_is_better=False, needs_proba=True)"
      ],
      "execution_count": 200,
      "outputs": []
    },
    {
      "cell_type": "code",
      "metadata": {
        "id": "E8ShT5pj-S-l"
      },
      "source": [
        "# Initialize SVD\n",
        "svd = TruncatedSVD()\n",
        "    \n",
        "# Initialize the standard scaler \n",
        "scl = preprocessing.StandardScaler()\n",
        "\n",
        "# We will use logistic regression here..\n",
        "lr_model = LogisticRegression()\n",
        "\n",
        "# Create the pipeline \n",
        "clf = pipeline.Pipeline([('svd', svd),\n",
        "                         ('scl', scl),\n",
        "                         ('lr', lr_model)])"
      ],
      "execution_count": 201,
      "outputs": []
    },
    {
      "cell_type": "code",
      "metadata": {
        "id": "YIgTIQ-0-VA9"
      },
      "source": [
        "param_grid = {'svd__n_components' : [120, 180],\n",
        "              'lr__C': [0.1, 1.0, 10], \n",
        "              'lr__penalty': ['l1', 'l2']}"
      ],
      "execution_count": 202,
      "outputs": []
    },
    {
      "cell_type": "code",
      "metadata": {
        "colab": {
          "base_uri": "https://localhost:8080/"
        },
        "id": "ZW1MsFSu-XXO",
        "outputId": "8e35877a-6628-4a12-d17b-56518c3bc373"
      },
      "source": [
        "# Initialize Grid Search Model\n",
        "model = GridSearchCV(estimator=clf, param_grid=param_grid, scoring=mll_scorer,\n",
        "                                 verbose=10, n_jobs=-1, iid=True, refit=True, cv=2)\n",
        "\n",
        "# Fit Grid Search Model\n",
        "model.fit(xtrain_tfv, ytrain)  # we can use the full data here but im only using xtrain\n",
        "print(\"Best score: %0.3f\" % model.best_score_)\n",
        "print(\"Best parameters set:\")\n",
        "best_parameters = model.best_estimator_.get_params()\n",
        "for param_name in sorted(param_grid.keys()):\n",
        "    print(\"\\t%s: %r\" % (param_name, best_parameters[param_name]))"
      ],
      "execution_count": 203,
      "outputs": [
        {
          "output_type": "stream",
          "text": [
            "Fitting 2 folds for each of 12 candidates, totalling 24 fits\n"
          ],
          "name": "stdout"
        },
        {
          "output_type": "stream",
          "text": [
            "[Parallel(n_jobs=-1)]: Using backend LokyBackend with 2 concurrent workers.\n",
            "[Parallel(n_jobs=-1)]: Done   1 tasks      | elapsed:    1.1s\n",
            "[Parallel(n_jobs=-1)]: Done   4 tasks      | elapsed:    1.3s\n",
            "[Parallel(n_jobs=-1)]: Done   9 tasks      | elapsed:    1.6s\n",
            "[Parallel(n_jobs=-1)]: Done  14 tasks      | elapsed:    1.9s\n",
            "[Parallel(n_jobs=-1)]: Done  21 tasks      | elapsed:    2.3s\n",
            "[Parallel(n_jobs=-1)]: Done  24 out of  24 | elapsed:    2.4s remaining:    0.0s\n",
            "[Parallel(n_jobs=-1)]: Done  24 out of  24 | elapsed:    2.4s finished\n",
            "/usr/local/lib/python3.6/dist-packages/sklearn/model_selection/_search.py:823: FutureWarning: The parameter 'iid' is deprecated in 0.22 and will be removed in 0.24.\n",
            "  \"removed in 0.24.\", FutureWarning\n"
          ],
          "name": "stderr"
        },
        {
          "output_type": "stream",
          "text": [
            "Best score: -0.069\n",
            "Best parameters set:\n",
            "\tlr__C: 10\n",
            "\tlr__penalty: 'l2'\n",
            "\tsvd__n_components: 120\n"
          ],
          "name": "stdout"
        }
      ]
    },
    {
      "cell_type": "markdown",
      "metadata": {
        "id": "3W3NVuFU-oqU"
      },
      "source": [
        "Score is like SVM only\n",
        "\n",
        "\n",
        "\n"
      ]
    },
    {
      "cell_type": "code",
      "metadata": {
        "colab": {
          "base_uri": "https://localhost:8080/"
        },
        "id": "42dlyxYl-Zzz",
        "outputId": "56cd97da-ceec-4978-faaf-5c3882474c87"
      },
      "source": [
        "nb_model = MultinomialNB()\n",
        "\n",
        "# Create the pipeline \n",
        "clf = pipeline.Pipeline([('nb', nb_model)])\n",
        "\n",
        "# parameter grid\n",
        "param_grid = {'nb__alpha': [0.001, 0.01, 0.1, 1, 10, 100]}\n",
        "\n",
        "# Initialize Grid Search Model\n",
        "model = GridSearchCV(estimator=clf, param_grid=param_grid, scoring=mll_scorer,\n",
        "                                 verbose=10, n_jobs=-1, iid=True, refit=True, cv=2)\n",
        "\n",
        "# Fit Grid Search Model\n",
        "model.fit(xtrain_tfv, ytrain)  # we can use the full data here but im only using xtrain. \n",
        "print(\"Best score: %0.3f\" % model.best_score_)\n",
        "print(\"Best parameters set:\")\n",
        "best_parameters = model.best_estimator_.get_params()\n",
        "for param_name in sorted(param_grid.keys()):\n",
        "    print(\"\\t%s: %r\" % (param_name, best_parameters[param_name]))"
      ],
      "execution_count": 204,
      "outputs": [
        {
          "output_type": "stream",
          "text": [
            "Fitting 2 folds for each of 6 candidates, totalling 12 fits\n",
            "Best score: -0.072\n",
            "Best parameters set:\n",
            "\tnb__alpha: 0.01\n"
          ],
          "name": "stdout"
        },
        {
          "output_type": "stream",
          "text": [
            "[Parallel(n_jobs=-1)]: Using backend LokyBackend with 2 concurrent workers.\n",
            "[Parallel(n_jobs=-1)]: Done   1 tasks      | elapsed:    0.0s\n",
            "[Parallel(n_jobs=-1)]: Batch computation too fast (0.0127s.) Setting batch_size=2.\n",
            "[Parallel(n_jobs=-1)]: Done   4 tasks      | elapsed:    0.0s\n",
            "[Parallel(n_jobs=-1)]: Batch computation too fast (0.0326s.) Setting batch_size=4.\n",
            "[Parallel(n_jobs=-1)]: Done  12 out of  12 | elapsed:    0.1s finished\n",
            "/usr/local/lib/python3.6/dist-packages/sklearn/model_selection/_search.py:823: FutureWarning: The parameter 'iid' is deprecated in 0.22 and will be removed in 0.24.\n",
            "  \"removed in 0.24.\", FutureWarning\n"
          ],
          "name": "stderr"
        }
      ]
    },
    {
      "cell_type": "code",
      "metadata": {
        "id": "eREy4_8n-jAX"
      },
      "source": [
        ""
      ],
      "execution_count": 205,
      "outputs": []
    },
    {
      "cell_type": "markdown",
      "metadata": {
        "id": "EoGlt2_JCBMc"
      },
      "source": [
        "### From the Above methods and differents Algo, a simple Naive Bayes on Counts gave the least log error of 0.018, its overfitting the data, since our data is too small, I am pretty much happy with it."
      ]
    },
    {
      "cell_type": "code",
      "metadata": {
        "id": "6hdBk-1a--Vk"
      },
      "source": [
        ""
      ],
      "execution_count": null,
      "outputs": []
    },
    {
      "cell_type": "markdown",
      "metadata": {
        "id": "YOmxqMZyCXvR"
      },
      "source": [
        "## **Now doin Analysis for Company name. **"
      ]
    },
    {
      "cell_type": "markdown",
      "metadata": {
        "id": "EsLWSZ_0HAVD"
      },
      "source": [
        "As the number of companies is too huge in my dataset, so I am using  dependency parsing and extract the center word dependencies, and to print my Company name. It gives Correct Output maximum number of times!\n",
        "\n"
      ]
    },
    {
      "cell_type": "code",
      "metadata": {
        "id": "TqDCD0yxCkRD"
      },
      "source": [
        "import spacy\n",
        "y_hat=[]\n",
        "nlp = spacy.load(\"en_core_web_sm\")\n",
        "for index, row in train.iterrows():\n",
        "    doc = nlp(row['Product'])\n",
        "    # print(row['Product'])\n",
        "    for chunk in doc.noun_chunks:\n",
        "        y_hat.append(chunk.text)\n",
        "\n",
        "y_hat=pd.DataFrame(y_hat)"
      ],
      "execution_count": 228,
      "outputs": []
    },
    {
      "cell_type": "code",
      "metadata": {
        "colab": {
          "base_uri": "https://localhost:8080/"
        },
        "id": "UPTB5ijbDB_I",
        "outputId": "73ada7d5-b6c3-4a3d-e218-5754744c1ac4"
      },
      "source": [
        "# print (\"logloss: %0.3f \" % multiclass_logloss(train['Company'], y_hat))\n",
        "print(y_hat.shape)\n",
        "print(train.shape)"
      ],
      "execution_count": 229,
      "outputs": [
        {
          "output_type": "stream",
          "text": [
            "(1284, 1)\n",
            "(770, 3)\n"
          ],
          "name": "stdout"
        }
      ]
    },
    {
      "cell_type": "code",
      "metadata": {
        "id": "Nir3McbaHpeG"
      },
      "source": [
        "import re\n",
        "def clean_special_characters(txt):\n",
        "  seps = [ \" \",\";\",\":\",\".\", \",\",\"*\",\"#\",\"@\",\"|\",\"/\",\"-\",\"_\",\"?\",\"%\",\"(\",\")\",\"^\"]\n",
        "  default_sep = seps[0]\n",
        "\n",
        "  for sep in sep[1:]:\n",
        "    txt = txt.replace(sep, default_sep)\n",
        "    re.sub(' +',' ',txt)\n",
        "    temp_list=[ i.strip() for i in txt.split(default_sep)]\n",
        "    temp_list=[ i for i in temp_list if i]\n",
        "    return \" \".join(temp_list)\n",
        "def clean_stopword(txt):\n",
        "  temp_list = txt.split(\" \")\n",
        "  temp_list= [ i for i in temp_list if i not in stop_words]\n",
        "  return \" \".join(temp_list)\n",
        "\n",
        "def data_cleaning(data, nameCol=\"Product\",dropforign= True):\n",
        "  data.dropna(subset=[\"Product\"], inplace = True)\n",
        "  data = data.rename_axis('Company').reset_index()\n",
        "  data_clean = data.copy()\n",
        "  data_clean['Product_clean']= data_clean[nameCol].apply(lambda x: x.lower())\n",
        "  data_clean['Product_clean']= data_clean['Product_clean'].apply(clean_special_characters)\n",
        "  data_clean['Product_clean']= data_clean['Product_clean'].apply(clean_stopword)\n",
        "\n",
        "\n"
      ],
      "execution_count": 231,
      "outputs": []
    },
    {
      "cell_type": "code",
      "metadata": {
        "id": "W0shTw4XSDoT"
      },
      "source": [
        "def fuzz_similarity():"
      ],
      "execution_count": null,
      "outputs": []
    }
  ]
}